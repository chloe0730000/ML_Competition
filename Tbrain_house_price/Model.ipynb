{
 "cells": [
  {
   "cell_type": "code",
   "execution_count": 17,
   "metadata": {},
   "outputs": [],
   "source": [
    "#--- import some necessary librairies\n",
    "\n",
    "import numpy as np \n",
    "import pandas as pd \n",
    "import matplotlib.pyplot as plt \n",
    "%matplotlib inline\n",
    "import seaborn as sns\n",
    "color = sns.color_palette()\n",
    "sns.set_style('darkgrid')\n",
    "import warnings\n",
    "def ignore_warn(*args, **kwargs):\n",
    "    pass\n",
    "warnings.warn = ignore_warn #ignore annoying warning (from sklearn and seaborn)\n",
    "\n",
    "\n",
    "from scipy import stats\n",
    "from scipy.stats import norm, skew #for some statistics\n",
    "\n",
    "\n",
    "pd.set_option('display.float_format', lambda x: '{:.3f}'.format(x)) #Limiting floats output to 3 decimal points\n",
    "from scipy.special import boxcox1p,inv_boxcox1p\n",
    "from scipy.stats import boxcox_normmax,boxcox\n",
    "\n",
    "from subprocess import check_output\n",
    "from sklearn.externals import joblib"
   ]
  },
  {
   "cell_type": "code",
   "execution_count": 18,
   "metadata": {},
   "outputs": [],
   "source": [
    "train = pd.read_csv('/Users/chloe/Documents/GitHub/Kaggle_Competition/TBrain/Yushan/Dataset/train.csv')\n",
    "test = pd.read_csv('/Users/chloe/Documents/GitHub/Kaggle_Competition/TBrain/Yushan/Dataset/test.csv')"
   ]
  },
  {
   "cell_type": "code",
   "execution_count": 19,
   "metadata": {},
   "outputs": [],
   "source": [
    "train[\"unit_price\"] = train[\"total_price\"]/train[\"building_area\"]"
   ]
  },
  {
   "cell_type": "code",
   "execution_count": 20,
   "metadata": {},
   "outputs": [
    {
     "name": "stdout",
     "output_type": "stream",
     "text": [
      "all_data size is : (70000, 234)\n"
     ]
    }
   ],
   "source": [
    "y_train = train.unit_price.values\n",
    "y_price = train.total_price.values\n",
    "all_data = pd.concat((train, test)).reset_index(drop=True)\n",
    "all_data.drop(['total_price'], axis=1, inplace=True)\n",
    "all_data.drop(['unit_price'], axis=1, inplace=True)\n",
    "\n",
    "del all_data[\"building_id\"]\n",
    "print(\"all_data size is : {}\".format(all_data.shape))"
   ]
  },
  {
   "cell_type": "markdown",
   "metadata": {},
   "source": [
    "### Deal with missing value & change categorical variable"
   ]
  },
  {
   "cell_type": "code",
   "execution_count": 32,
   "metadata": {},
   "outputs": [
    {
     "data": {
      "text/plain": [
       "village_income_median    0\n",
       "N_50                     0\n",
       "VIII_index_1000          0\n",
       "VIII_MIN                 0\n",
       "dtype: int64"
      ]
     },
     "execution_count": 32,
     "metadata": {},
     "output_type": "execute_result"
    }
   ],
   "source": [
    "all_data.isnull().sum().sort_values(ascending=False)[:4]"
   ]
  },
  {
   "cell_type": "code",
   "execution_count": 24,
   "metadata": {},
   "outputs": [],
   "source": [
    "# fill in missing value\n",
    "del all_data[\"parking_area\"]\n",
    "all_data[\"txn_floor\"] = all_data[\"txn_floor\"].fillna(0)\n",
    "all_data[\"parking_price\"] = all_data[\"parking_price\"].fillna(0)\n",
    "all_data['village_income_median'] = all_data['village_income_median'].fillna(all_data['village_income_median'].mean())"
   ]
  },
  {
   "cell_type": "code",
   "execution_count": 25,
   "metadata": {},
   "outputs": [],
   "source": [
    "category_col = ['building_material','city','total_floor','building_type',\n",
    "                'building_use','parking_way','txn_floor']\n",
    "for i in category_col:\n",
    "    all_data[i] = all_data[i].apply(str)"
   ]
  },
  {
   "cell_type": "code",
   "execution_count": 26,
   "metadata": {},
   "outputs": [
    {
     "data": {
      "text/plain": [
       "70"
      ]
     },
     "execution_count": 26,
     "metadata": {},
     "output_type": "execute_result"
    }
   ],
   "source": [
    "matching = [s for s in train.columns if \"index\" in s]\n",
    "len(matching)"
   ]
  },
  {
   "cell_type": "code",
   "execution_count": 27,
   "metadata": {},
   "outputs": [],
   "source": [
    "for i in matching:\n",
    "    all_data[i] = all_data[i].apply(str)"
   ]
  },
  {
   "cell_type": "markdown",
   "metadata": {},
   "source": [
    "### train model"
   ]
  },
  {
   "cell_type": "code",
   "execution_count": 29,
   "metadata": {},
   "outputs": [],
   "source": [
    "train = all_data[:len(train)]\n",
    "test = all_data[len(train):]"
   ]
  },
  {
   "cell_type": "code",
   "execution_count": 2,
   "metadata": {},
   "outputs": [],
   "source": [
    "from sklearn.linear_model import ElasticNet, Lasso,  BayesianRidge, LassoLarsIC\n",
    "from sklearn.ensemble import RandomForestRegressor,  GradientBoostingRegressor\n",
    "from sklearn.kernel_ridge import KernelRidge\n",
    "from sklearn.pipeline import make_pipeline\n",
    "from sklearn.preprocessing import RobustScaler\n",
    "from sklearn.base import BaseEstimator, TransformerMixin, RegressorMixin, clone\n",
    "from sklearn.model_selection import KFold, cross_val_score, train_test_split\n",
    "from sklearn.metrics import mean_squared_error\n",
    "import xgboost as xgb\n",
    "import lightgbm as lgb\n",
    "from sklearn.model_selection import GridSearchCV\n",
    "from mlxtend.classifier import StackingClassifier\n",
    "from sklearn.svm import SVR"
   ]
  },
  {
   "cell_type": "code",
   "execution_count": null,
   "metadata": {},
   "outputs": [],
   "source": [
    "#--- Evaluation metric\n",
    "\n",
    "def rmsle(y, y_pred):\n",
    "    return np.sqrt(mean_squared_error(y, y_pred))\n",
    "\n",
    "def MAPE(y, y_pred):\n",
    "    return sum(abs(y_pred-y)/y)/len(y)\n",
    "\n",
    "def Score(y, y_pred):\n",
    "    y=np.expm1(y)\n",
    "    y_pred=np.expm1(y_pred)\n",
    "    hit_rate = np.around(np.sum(np.where(abs((y_pred-y)/y)<.1,1,0))/len(y),decimals=4)*10000\n",
    "    MAPE = 1-np.sum(abs((y_pred-y)/y))/len(y)\n",
    "    return hit_rate+MAPE\n",
    "\n",
    "def Score_MAPE(y, y_pred):\n",
    "    y=np.expm1(y)\n",
    "    y_pred=np.expm1(y_pred)\n",
    "    MAPE = 1-np.sum(abs((y_pred-y)/y))/len(y)\n",
    "    return MAPE\n",
    "\n",
    "#check\n",
    "def Score_type(y, y_pred, h_type):\n",
    "    y = np.expm1(y)\n",
    "    y_pred = np.where(h_type>0,np.expm1(y_pred),0)\n",
    "    hit_rate = np.around(np.sum(np.where(abs((y_pred-y)/y)<.1,1,0))/len(y),decimals=4)*10000\n",
    "    MAPE = 1-np.sum(abs((y_pred-y)/y))/len(y)\n",
    "    return hit_rate+MAPE\n",
    "\n",
    "#check\n",
    "def Score_acc(y, y_pred, h_type):\n",
    "    y = np.expm1(y)\n",
    "    y_pred = np.where(h_type>0,np.expm1(y_pred),0)\n",
    "    type_total = sum(np.where(h_type>0,1,0))\n",
    "    hit_rate = np.sum(np.where(abs((y_pred-y)/y)<.1,1,0))/type_total\n",
    "    return hit_rate#+MAPE"
   ]
  },
  {
   "cell_type": "code",
   "execution_count": null,
   "metadata": {},
   "outputs": [],
   "source": [
    "X_train, X_valid, train_y, valid_y = train_test_split( train, y_train, test_size=0.1, random_state=49)#42"
   ]
  },
  {
   "cell_type": "code",
   "execution_count": null,
   "metadata": {},
   "outputs": [],
   "source": []
  }
 ],
 "metadata": {
  "kernelspec": {
   "display_name": "Python 3",
   "language": "python",
   "name": "python3"
  },
  "language_info": {
   "codemirror_mode": {
    "name": "ipython",
    "version": 3
   },
   "file_extension": ".py",
   "mimetype": "text/x-python",
   "name": "python",
   "nbconvert_exporter": "python",
   "pygments_lexer": "ipython3",
   "version": "3.7.3"
  }
 },
 "nbformat": 4,
 "nbformat_minor": 2
}
