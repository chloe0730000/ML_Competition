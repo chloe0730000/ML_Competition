{
 "cells": [
  {
   "cell_type": "markdown",
   "metadata": {},
   "source": [
    "### Only focus on model\n",
    "- things matter end result: train_test_split portion, dependent variables for prediction (unit price vs total price), model parameters\n",
    "- mainly using lightgbm testing different combination\n",
    "- result record in [here](https://docs.google.com/spreadsheets/d/1WaLDSYc89plQ_um0mpxMoPjoRlX8iXUhy-nBGzTV6U8/edit?usp=sharing)"
   ]
  },
  {
   "cell_type": "code",
   "execution_count": 1,
   "metadata": {},
   "outputs": [],
   "source": [
    "#--- import some necessary librairies\n",
    "\n",
    "import numpy as np \n",
    "import pandas as pd \n",
    "import re\n",
    "import matplotlib.pyplot as plt \n",
    "%matplotlib inline\n",
    "import seaborn as sns\n",
    "color = sns.color_palette()\n",
    "sns.set_style('darkgrid')\n",
    "import warnings\n",
    "def ignore_warn(*args, **kwargs):\n",
    "    pass\n",
    "warnings.warn = ignore_warn #ignore annoying warning (from sklearn and seaborn)\n",
    "\n",
    "\n",
    "from scipy import stats\n",
    "from scipy.stats import norm, skew #for some statistics\n",
    "\n",
    "\n",
    "pd.set_option('display.float_format', lambda x: '{:.3f}'.format(x)) #Limiting floats output to 3 decimal points\n",
    "from scipy.special import boxcox1p,inv_boxcox1p\n",
    "from scipy.stats import boxcox_normmax,boxcox\n",
    "\n",
    "from subprocess import check_output\n",
    "from sklearn.externals import joblib"
   ]
  },
  {
   "cell_type": "code",
   "execution_count": 2,
   "metadata": {},
   "outputs": [],
   "source": [
    "train = pd.read_csv('/Users/chloe/Google Drive/Kaggle_Data/tbrain_yushan_house_price_prediction/train.csv')\n",
    "test = pd.read_csv('/Users/chloe/Google Drive/Kaggle_Data/tbrain_yushan_house_price_prediction/test.csv')"
   ]
  },
  {
   "cell_type": "code",
   "execution_count": 3,
   "metadata": {},
   "outputs": [],
   "source": [
    "train[\"unit_price\"] = train[\"total_price\"]/train[\"building_area\"]"
   ]
  },
  {
   "cell_type": "code",
   "execution_count": 4,
   "metadata": {},
   "outputs": [],
   "source": [
    "test_building_id = test.building_id.values"
   ]
  },
  {
   "cell_type": "code",
   "execution_count": 5,
   "metadata": {},
   "outputs": [
    {
     "name": "stdout",
     "output_type": "stream",
     "text": [
      "all_data size is : (70000, 233)\n"
     ]
    }
   ],
   "source": [
    "y_train = train.unit_price.values\n",
    "y_price = train.total_price.values\n",
    "\n",
    "all_data = pd.concat((train, test)).reset_index(drop=True)\n",
    "all_data.drop(['total_price'], axis=1, inplace=True)\n",
    "all_data.drop(['unit_price'], axis=1, inplace=True)\n",
    "\n",
    "del all_data[\"building_id\"]\n",
    "print(\"all_data size is : {}\".format(all_data.shape))"
   ]
  },
  {
   "cell_type": "markdown",
   "metadata": {},
   "source": [
    "### Deal with missing value & change categorical variable"
   ]
  },
  {
   "cell_type": "code",
   "execution_count": 6,
   "metadata": {},
   "outputs": [
    {
     "data": {
      "text/plain": [
       "parking_area             66397\n",
       "parking_price            53775\n",
       "txn_floor                18541\n",
       "village_income_median     1326\n",
       "dtype: int64"
      ]
     },
     "execution_count": 6,
     "metadata": {},
     "output_type": "execute_result"
    }
   ],
   "source": [
    "all_data.isnull().sum().sort_values(ascending=False)[:4]"
   ]
  },
  {
   "cell_type": "code",
   "execution_count": 7,
   "metadata": {},
   "outputs": [],
   "source": [
    "# fill in missing value\n",
    "del all_data[\"parking_area\"]\n",
    "all_data[\"txn_floor\"] = all_data[\"txn_floor\"].fillna(0)\n",
    "all_data[\"parking_price\"] = all_data[\"parking_price\"].fillna(0)\n",
    "all_data['village_income_median'] = all_data['village_income_median'].fillna(all_data['village_income_median'].mean())"
   ]
  },
  {
   "cell_type": "code",
   "execution_count": 8,
   "metadata": {},
   "outputs": [],
   "source": [
    "# add features [v2]\n",
    "\n",
    "all_data[\"ratio_floor\"] = all_data[\"txn_floor\"]/all_data[\"total_floor\"]\n",
    "all_data[\"top_floor\"] = np.where(all_data[\"txn_floor\"]==all_data[\"total_floor\"],1,0)\n",
    "all_data[\"perc_land\"] =  all_data[\"land_area\"]/all_data[\"building_area\"]"
   ]
  },
  {
   "cell_type": "code",
   "execution_count": 9,
   "metadata": {},
   "outputs": [],
   "source": [
    "# add features [v3]\n",
    "main_col = [\"village_income_median\", \"town_population\", \"town_area\",\n",
    "            \"city\", \"town\", \"village\",\"land_area\", \"building_area\"] \n",
    "interact_col = [col for col in all_data.columns if re.search(\"[a-zA-Z]_rate$\", col, re.IGNORECASE)!=None]\n",
    "\n",
    "for m_col in main_col:\n",
    "    for i_col in interact_col:\n",
    "        all_data[m_col+\"_\"+i_col+\"_IT\"] = all_data[m_col]*all_data[i_col]  \n",
    "        \n",
    "for col in interact_col:\n",
    "    all_data[col+\"_s\"] = all_data[col]**2\n",
    "    \n",
    "\n",
    "all_data[\"ratio_parking_price\"] = all_data[\"parking_price\"]/all_data[\"village_income_median\"]\n",
    "all_data[\"good_factor\"] = all_data[\"marriage_rate\"]+all_data[\"master_rate\"]+all_data[\"bachelor_rate\"]\n",
    "all_data[\"good_factor\"+\"_s\"] = all_data[\"good_factor\"]**2"
   ]
  },
  {
   "cell_type": "markdown",
   "metadata": {},
   "source": [
    "### train model"
   ]
  },
  {
   "cell_type": "code",
   "execution_count": 10,
   "metadata": {},
   "outputs": [],
   "source": [
    "train = all_data[:len(train)]\n",
    "test = all_data[len(train):]"
   ]
  },
  {
   "cell_type": "code",
   "execution_count": 13,
   "metadata": {},
   "outputs": [],
   "source": [
    "from sklearn.linear_model import ElasticNet, Lasso,  BayesianRidge, LassoLarsIC\n",
    "from sklearn.ensemble import RandomForestRegressor,  GradientBoostingRegressor\n",
    "from sklearn.kernel_ridge import KernelRidge\n",
    "from sklearn.pipeline import make_pipeline\n",
    "from sklearn.preprocessing import RobustScaler\n",
    "from sklearn.base import BaseEstimator, TransformerMixin, RegressorMixin, clone\n",
    "from sklearn.model_selection import KFold, cross_val_score, train_test_split\n",
    "from sklearn.metrics import mean_squared_error\n",
    "import xgboost as xgb\n",
    "import lightgbm as lgb\n",
    "from sklearn.model_selection import GridSearchCV\n",
    "from mlxtend.classifier import StackingClassifier\n",
    "from sklearn.svm import SVR"
   ]
  },
  {
   "cell_type": "code",
   "execution_count": 14,
   "metadata": {},
   "outputs": [],
   "source": [
    "#--- Evaluation metric\n",
    "\n",
    "def rmsle(y, y_pred):\n",
    "    return np.sqrt(mean_squared_error(y, y_pred))\n",
    "\n",
    "def MAPE(y, y_pred):\n",
    "    return sum(abs(y_pred-y)/y)/len(y)\n",
    "\n",
    "def Score(y, y_pred):\n",
    "    y=np.expm1(y)\n",
    "    y_pred=np.expm1(y_pred)\n",
    "    hit_rate = np.around(np.sum(np.where(abs((y_pred-y)/y)<.1,1,0))/len(y),decimals=4)*10000\n",
    "    MAPE = 1-np.sum(abs((y_pred-y)/y))/len(y)\n",
    "    return hit_rate+MAPE\n",
    "\n",
    "def Score_MAPE(y, y_pred):\n",
    "    y=np.expm1(y)\n",
    "    y_pred=np.expm1(y_pred)\n",
    "    MAPE = 1-np.sum(abs((y_pred-y)/y))/len(y)\n",
    "    return MAPE\n",
    "\n",
    "# archive\n",
    "def Score_type(y, y_pred, h_type):\n",
    "    y = np.expm1(y)\n",
    "    y_pred = np.where(h_type>0,np.expm1(y_pred),0)\n",
    "    hit_rate = np.around(np.sum(np.where(abs((y_pred-y)/y)<.1,1,0))/len(y),decimals=4)*10000\n",
    "    MAPE = 1-np.sum(abs((y_pred-y)/y))/len(y)\n",
    "    return hit_rate+MAPE\n",
    "\n",
    "# archive\n",
    "def Score_acc(y, y_pred, h_type):\n",
    "    y = np.expm1(y)\n",
    "    y_pred = np.where(h_type>0,np.expm1(y_pred),0)\n",
    "    type_total = sum(np.where(h_type>0,1,0))\n",
    "    hit_rate = np.sum(np.where(abs((y_pred-y)/y)<.1,1,0))/type_total\n",
    "    return hit_rate#+MAPE"
   ]
  },
  {
   "cell_type": "code",
   "execution_count": 15,
   "metadata": {},
   "outputs": [],
   "source": [
    "X_train, X_valid, train_y, valid_y = train_test_split(train, np.log1p(y_train), test_size=0.1, random_state= 0)"
   ]
  },
  {
   "cell_type": "code",
   "execution_count": 16,
   "metadata": {},
   "outputs": [],
   "source": [
    "# # model 0\n",
    "# gbm = lgb.LGBMRegressor()"
   ]
  },
  {
   "cell_type": "code",
   "execution_count": 17,
   "metadata": {},
   "outputs": [],
   "source": [
    "# # model 1 \n",
    "# gbm = lgb.LGBMRegressor(objective='regression',\n",
    "#                         num_leaves=80,\n",
    "#                         learning_rate=0.03,\n",
    "#                         n_estimators=6769,\n",
    "#                        colsample_bytree = 0.6886781648348815,\n",
    "#                        max_depth = 18,\n",
    "#                        subsample = 0.7241144257909466)"
   ]
  },
  {
   "cell_type": "code",
   "execution_count": 18,
   "metadata": {},
   "outputs": [],
   "source": [
    "# model 2\n",
    "gbm = lgb.LGBMRegressor(objective='regression',\n",
    "                        metric='mape',\n",
    "                        num_leaves=80,\n",
    "                        learning_rate=0.03,\n",
    "                        n_estimators=6769,\n",
    "                       colsample_bytree = 0.6886781648348815,\n",
    "                       max_depth = 18,\n",
    "                       subsample = 0.7241144257909466)"
   ]
  },
  {
   "cell_type": "code",
   "execution_count": null,
   "metadata": {},
   "outputs": [],
   "source": [
    "gbm.fit(X_train, train_y)\n",
    "y_pred = gbm.predict(X_valid)"
   ]
  },
  {
   "cell_type": "code",
   "execution_count": null,
   "metadata": {},
   "outputs": [],
   "source": [
    "# # show feature importance\n",
    "# import eli5\n",
    "# from eli5.sklearn import PermutationImportance\n",
    "\n",
    "# perm = PermutationImportance(gbm, random_state=0).fit(X_valid, valid_y)\n",
    "# eli5.show_weights(perm, feature_names = X_valid.columns.tolist())"
   ]
  },
  {
   "cell_type": "code",
   "execution_count": null,
   "metadata": {},
   "outputs": [],
   "source": [
    "# lgbm inbuilt feature importance\n",
    "lgb.plot_importance(gbm, max_num_features=30,figsize=(12,9))\n",
    "\n",
    "plt.title(\"Featurertances\")\n",
    "plt.show()"
   ]
  },
  {
   "cell_type": "code",
   "execution_count": null,
   "metadata": {},
   "outputs": [],
   "source": [
    "print(\"Score:\", Score(valid_y, y_pred))\n",
    "print(\"Loss:\", rmsle(valid_y, y_pred))"
   ]
  },
  {
   "cell_type": "code",
   "execution_count": null,
   "metadata": {},
   "outputs": [],
   "source": [
    "# submit\n",
    "y_pred_final = gbm.predict(test)\n",
    "y_final = np.expm1(y_pred_final)"
   ]
  },
  {
   "cell_type": "code",
   "execution_count": null,
   "metadata": {},
   "outputs": [],
   "source": [
    "submission = pd.DataFrame()\n",
    "submission[\"building_id\"] = test_building_id\n",
    "submission[\"prediction\"] = y_final*test[\"building_area\"]"
   ]
  },
  {
   "cell_type": "code",
   "execution_count": null,
   "metadata": {},
   "outputs": [],
   "source": [
    "submission.head(5)"
   ]
  },
  {
   "cell_type": "code",
   "execution_count": null,
   "metadata": {},
   "outputs": [],
   "source": []
  }
 ],
 "metadata": {
  "kernelspec": {
   "display_name": "Python 3",
   "language": "python",
   "name": "python3"
  },
  "language_info": {
   "codemirror_mode": {
    "name": "ipython",
    "version": 3
   },
   "file_extension": ".py",
   "mimetype": "text/x-python",
   "name": "python",
   "nbconvert_exporter": "python",
   "pygments_lexer": "ipython3",
   "version": "3.7.3"
  }
 },
 "nbformat": 4,
 "nbformat_minor": 1
}
